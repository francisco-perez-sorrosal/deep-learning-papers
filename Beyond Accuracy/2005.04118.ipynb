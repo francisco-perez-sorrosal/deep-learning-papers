{
 "cells": [
  {
   "cell_type": "code",
   "execution_count": 1,
   "metadata": {
    "slideshow": {
     "slide_type": "skip"
    }
   },
   "outputs": [
    {
     "name": "stdout",
     "output_type": "stream",
     "text": [
      "Collecting emoji\n",
      "  Downloading emoji-0.6.0.tar.gz (51 kB)\n",
      "\u001b[K     |████████████████████████████████| 51 kB 1.2 MB/s eta 0:00:011\n",
      "\u001b[?25hBuilding wheels for collected packages: emoji\n",
      "  Building wheel for emoji (setup.py) ... \u001b[?25ldone\n",
      "\u001b[?25h  Created wheel for emoji: filename=emoji-0.6.0-py3-none-any.whl size=49714 sha256=fb5137da6e0111daa73afb0284c975ed577e65f95bbbe5df492271d16db7f5cf\n",
      "  Stored in directory: /Users/fperez/Library/Caches/pip/wheels/43/3d/82/e7baffa5e86346c6178d7750dba6e8ef063282a37fc563f8f8\n",
      "Successfully built emoji\n",
      "Installing collected packages: emoji\n",
      "Successfully installed emoji-0.6.0\n",
      "Note: you may need to restart the kernel to use updated packages.\n"
     ]
    }
   ],
   "source": [
    "pip install emoji --upgrade"
   ]
  },
  {
   "cell_type": "code",
   "execution_count": 3,
   "metadata": {
    "slideshow": {
     "slide_type": "skip"
    }
   },
   "outputs": [
    {
     "name": "stdout",
     "output_type": "stream",
     "text": [
      "Presenting stuff is easy!!! 👍\n"
     ]
    }
   ],
   "source": [
    "import emoji\n",
    "print(emoji.emojize('Presenting stuff is easy!!! :thumbs_up:'))"
   ]
  },
  {
   "cell_type": "code",
   "execution_count": 4,
   "metadata": {
    "slideshow": {
     "slide_type": "skip"
    }
   },
   "outputs": [],
   "source": [
    "# Emojis http://getemoji.com/"
   ]
  },
  {
   "cell_type": "markdown",
   "metadata": {
    "collapsed": true,
    "slideshow": {
     "slide_type": "slide"
    }
   },
   "source": [
    "# Beyond Accuracy: Behavioral Testing of NLP models with CheckList\n",
    "\n",
    "## Marco Tulio Ribeiro, Tongshuang Wu, Carlos Guestrin, Sameer Singh\n",
    "\n",
    "### [https://arxiv.org/abs/2005.04118](https://arxiv.org/abs/2005.04118)\n",
    "\n",
    "### [pdf](https://arxiv.org/pdf/2005.04118.pdf)\n",
    "\n",
    "---\n",
    "\n",
    "Francisco Perez-Sorrosal | 7 Sep 2020\n"
   ]
  },
  {
   "attachments": {},
   "cell_type": "markdown",
   "metadata": {
    "slideshow": {
     "slide_type": "slide"
    }
   },
   "source": [
    "# Summary\n",
    "\n",
    "**Best paper award in ACL 2020**\n",
    "\n",
    "Presents **Checklist**, a methodology for testing NLP models\n",
    "\n",
    "💡 Based on behavioral testing (software engineering)\n",
    "\n",
    "💡 Composed of:\n",
    "\n",
    "1. matrix of general linguistic capabilities and test types (to ease comprehensive test ideation)\n",
    "\n",
    "2. tool to generate test cases\n",
    "\n",
    "💡 Illustrates the methodology on 3 use cases"
   ]
  },
  {
   "cell_type": "code",
   "execution_count": null,
   "metadata": {},
   "outputs": [],
   "source": []
  }
 ],
 "metadata": {
  "celltoolbar": "Slideshow",
  "kernelspec": {
   "display_name": "Python 3",
   "language": "python",
   "name": "python3"
  },
  "language_info": {
   "codemirror_mode": {
    "name": "ipython",
    "version": 3
   },
   "file_extension": ".py",
   "mimetype": "text/x-python",
   "name": "python",
   "nbconvert_exporter": "python",
   "pygments_lexer": "ipython3",
   "version": "3.8.5"
  },
  "livereveal": {
   "autolaunch": true
  }
 },
 "nbformat": 4,
 "nbformat_minor": 1
}
