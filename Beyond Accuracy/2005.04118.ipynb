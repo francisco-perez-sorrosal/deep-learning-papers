{
 "cells": [
  {
   "cell_type": "code",
   "execution_count": 1,
   "metadata": {
    "slideshow": {
     "slide_type": "skip"
    }
   },
   "outputs": [
    {
     "data": {
      "text/plain": [
       "{'start_slideshow_at': 'selected',\n",
       " 'leap_motion': {'naturalSwipe': True,\n",
       "  'pointerOpacity': 0.5,\n",
       "  'pointerColor': '#d80000'},\n",
       " 'header': '<h3>Francisco Perez-Sorrosal</h3>',\n",
       " 'footer': '<h3>Machine Learning/Deep Learning</h3>',\n",
       " 'scroll': True,\n",
       " 'enable_chalkboard': True}"
      ]
     },
     "execution_count": 1,
     "metadata": {},
     "output_type": "execute_result"
    }
   ],
   "source": [
    "from traitlets.config.manager import BaseJSONConfigManager\n",
    "from pathlib import Path\n",
    "path = Path.home() / \".jupyter\" / \"nbconfig\"\n",
    "cm = BaseJSONConfigManager(config_dir=str(path))\n",
    "cm.update(\n",
    "    \"rise\",\n",
    "    {\n",
    "        \"theme\": None,\n",
    "        \"transition\": None,\n",
    "        \"start_slideshow_at\": \"selected\",\n",
    "        \"leap_motion\": {\n",
    "            \"naturalSwipe\"  : True,     # Invert swipe gestures\n",
    "            \"pointerOpacity\": 0.5,      # Set pointer opacity to 0.5\n",
    "            \"pointerColor\"  : \"#d80000\" # Red pointer\"nat.png\"\n",
    "        },\n",
    "        \"header\": \"<h3>Francisco Perez-Sorrosal</h3>\",\n",
    "        \"footer\": \"<h3>Machine Learning/Deep Learning</h3>\",\n",
    "        \"scroll\": True,\n",
    "        \"enable_chalkboard\": True\n",
    "     }\n",
    ")"
   ]
  },
  {
   "cell_type": "code",
   "execution_count": null,
   "metadata": {
    "scrolled": true,
    "slideshow": {
     "slide_type": "skip"
    }
   },
   "outputs": [],
   "source": [
    "pip install emoji --upgrade"
   ]
  },
  {
   "cell_type": "code",
   "execution_count": null,
   "metadata": {
    "slideshow": {
     "slide_type": "skip"
    }
   },
   "outputs": [],
   "source": [
    "import emoji\n",
    "print(emoji.emojize('Presenting stuff is easy!!! :thumbs_up:'))"
   ]
  },
  {
   "cell_type": "code",
   "execution_count": null,
   "metadata": {
    "slideshow": {
     "slide_type": "skip"
    }
   },
   "outputs": [],
   "source": [
    "# Emojis http://getemoji.com/"
   ]
  },
  {
   "cell_type": "markdown",
   "metadata": {
    "collapsed": true,
    "slideshow": {
     "slide_type": "slide"
    }
   },
   "source": [
    "# Beyond Accuracy: Behavioral Testing of NLP models with CheckList\n",
    "\n",
    "## Marco Tulio Ribeiro, Tongshuang Wu, Carlos Guestrin, Sameer Singh\n",
    "\n",
    "### [https://arxiv.org/abs/2005.04118](https://arxiv.org/abs/2005.04118)\n",
    "\n",
    "### [pdf](https://arxiv.org/pdf/2005.04118.pdf)\n",
    "\n",
    "\n",
    "---\n",
    "\n",
    "Francisco Perez-Sorrosal | 14 Sep 2020\n"
   ]
  },
  {
   "cell_type": "markdown",
   "metadata": {
    "slideshow": {
     "slide_type": "slide"
    }
   },
   "source": [
    "# Summary (What do the authors sell)\n",
    "\n",
    "**Best paper award in ACL 2020**\n",
    "\n",
    "Presents **Checklist**, a _methodology and a tool_ for testing NLP models\n",
    "\n",
    "💡 Based on behavioral testing (software engineering)\n",
    "\n",
    "💡 Composed of:\n",
    "\n",
    "1. matrix of general linguistic capabilities and test types (to ease comprehensive test ideation)\n",
    "\n",
    "2. tool to generate test cases\n",
    "\n",
    "💡 Illustrates the methodology on 3 use cases\n",
    "\n",
    "💡 Analyze user behaviour while using the tool to justify its utility\n",
    "\n",
    "💡 Reminds me the early papers on SW quality or papers from the [SEI](https://www.sei.cmu.edu/publications/technical-papers/index.cfm) but applied to NLP\n",
    "\n",
    "- [The CERT Function Extraction Experiment: Quantifying FX Impact on Software  Comprehension and Verification, Collins et al, 2005](https://kilthub.cmu.edu/articles/The_CERT_Function_Extraction_Experiment_Quantifying_FX_Impact_on_Software_Comprehension_and_Verification/6585095/1)"
   ]
  },
  {
   "cell_type": "markdown",
   "metadata": {
    "slideshow": {
     "slide_type": "slide"
    }
   },
   "source": [
    "# (General) Current Evaluation Scenario for Models\n",
    "\n",
    "💡Standard paradigm for evaluation:\n",
    "\n",
    " - Using train-validation-test splits to estimate model's the accuracy/any other metric\n",
    "    \n",
    "💡While this is useful, eval DSs are:\n",
    "    \n",
    " - often not comprehensive\n",
    " - contain the same biases as the training data\n",
    "\n",
    "💡So, by summarizing the model performance as a single aggregate statistic:\n",
    " \n",
    " - The performance on the real-world data can be overestimated\n",
    " - Makes difficult to figure out where the model is failing, \n",
    " - and what is more, how to **fix it**\n"
   ]
  },
  {
   "cell_type": "markdown",
   "metadata": {
    "slideshow": {
     "slide_type": "subslide"
    }
   },
   "source": [
    "## Authors' Claims and Findings\n",
    "\n",
    "- Commercial/Research models claim to show performance (accuracy) at the Human level\n",
    "\n",
    "### However, Checklist...\n",
    "- Reveals a variety of severe bugs/linguistic phenomena not detected in commercial and research models\n",
    "- Examples:\n",
    "\n",
    "  1. negation\n",
    "  2. named entities\n",
    "  3. coreferences\n",
    "  4. semantic role labeling\n",
    "  5. et cetera\n",
    "  \n",
    "- Model developers generate double the tests they were generating before"
   ]
  },
  {
   "cell_type": "markdown",
   "metadata": {
    "slideshow": {
     "slide_type": "slide"
    }
   },
   "source": [
    "# Behavioral Testing\n",
    "\n",
    "💡 Behavior Driven Development (BDD) -> Test Driven Development (TDD). \n",
    "\n",
    "💡 __GOAL__: Decouple tests from implementation\n",
    "\n",
    "💡 BDD relies in human-readable descriptions of SW requirements to assess software.\n",
    "\n",
    " - Defines use cases as stories in English-like DSL\n",
    " - **Story**: Transfers change balances\n",
    "   1. As a bank user\n",
    "   2. When I send money from one of my accounts to another\n",
    "   3. I want the account balances to update\n",
    "\n",
    "### Example\n",
    "\n",
    " - Assuming I have `$100` in my balance of account A <p> And the balance of my account B is `$10`\n",
    "    \n",
    " - If I transfer `$50` from my Account A to my account B\n",
    "    \n",
    " - Then, in the end, I should have `$50` in the balance of my account A <p> And `$60` in the balance of my account B"
   ]
  },
  {
   "cell_type": "markdown",
   "metadata": {
    "slideshow": {
     "slide_type": "slide"
    }
   },
   "source": [
    "# Scenarios They Choose to Demonstrate Applicability\n",
    "\n",
    "- Sentiment Analysis\n",
    "\n",
    "- Duplicate Question Detection\n",
    "\n",
    "- Machine Comprehension\n",
    "\n",
    "\n",
    "\n",
    "__In all of them the model is treated as a _Black-Box_, which allows comparison of different model implementations, models trained on different data, etc.__\n",
    "\n",
    "\n",
    "## Real-world Field Studies Description\n",
    "\n",
    "### It looks like they do a kind of a clinical-study here\n",
    "\n",
    "1. Sentiment Analysis Model\n",
    "2. Other NLP practitioners\n"
   ]
  },
  {
   "cell_type": "markdown",
   "metadata": {
    "slideshow": {
     "slide_type": "slide"
    }
   },
   "source": [
    "# Example\n",
    "\n",
    "### Capability Matrix\n",
    "\n",
    "- Potential tests structured as a matrix\n",
    "    - Rows -> capabilities\n",
    "    - Cols -> test types\n",
    "\n",
    "![Capability Matrix](images/cap_matrix.png)\n",
    "\n",
    "The matrix works as a guide, prompting users to test each capability with different test types.\n"
   ]
  },
  {
   "cell_type": "markdown",
   "metadata": {
    "slideshow": {
     "slide_type": "subslide"
    }
   },
   "source": [
    "# Example: Model’s Negation capability test\n",
    "\n",
    "![Capability Matrix](images/cap_matrix.png)\n",
    "\n",
    "---\n",
    "\n",
    "- Minimum Functionality test (MFT), i.e. simple test cases designed to target a specific behavior\n",
    "  1. Generate simple examples filling in a template (“I {NEGATION} {POS_VERB} the {THING}.”) with pre-built lexicons\n",
    "  2. Compute the model’s failure rate on such examples\n",
    "![Test Case A](images/test_case_a.png)"
   ]
  },
  {
   "cell_type": "markdown",
   "metadata": {
    "slideshow": {
     "slide_type": "subslide"
    }
   },
   "source": [
    "# Example: Named entity recognition (NER) \n",
    "\n",
    "![Capability Matrix](images/cap_matrix.png)\n",
    "\n",
    "---\n",
    "\n",
    " - Tested with an Invariance test (INV) \n",
    "   1. perturbations that should not change the output of the model\n",
    "![Sentiment Analysis INV](images/test_case_b.png)\n",
    "\n",
    " - Changing location should not change sentiment"
   ]
  },
  {
   "cell_type": "markdown",
   "metadata": {
    "slideshow": {
     "slide_type": "subslide"
    }
   },
   "source": [
    "# Example: Vocabulary\n",
    "\n",
    "![Capability Matrix](images/cap_matrix.png)\n",
    "\n",
    "---\n",
    "\n",
    " - Use a Directional Expectation test (DIR) \n",
    "   - perturbations to the input with known expected results \n",
    "\n",
    "![Test Case A](images/test_case_c.png)\n",
    "\n",
    " - Add negative phrases and check sentiment does not become more positive"
   ]
  },
  {
   "cell_type": "markdown",
   "metadata": {
    "slideshow": {
     "slide_type": "slide"
    }
   },
   "source": [
    "# Tool Description\n",
    "\n",
    "- Users have to __identify the language capabilities__ of the tasks at hand\n",
    "- then __create tests__ to evaluate the model\n",
    "\n",
    "## Capabilities\n",
    "\n",
    "1. e.g. Sentiment Analysis\n",
    "\n",
    "  - Identify workds with positive, neutral, negative sentiment\n",
    "  - Check the behaviour of those words in examples \"I had a good flight\", \"I didn't have a good flight\"\n",
    "\n",
    "![Sentiment Analysis](images/test_case_a.png)\n",
    "\n",
    "2. Duplicate question detection\n",
    "\n",
    "  - Understand when modifiers differentiate questions\n",
    "  - e.g. \"accredited\" word in \"Is John a teacher?\", \"Is John an accredited teacher?\"\n",
    "  \n",
    "3. Machine comprehension\n",
    "\n",
    "  - Relate comparatives and superlatives\n",
    "  - e.g. Context: Mary is smarter than John. -> Q: \"Who's the smartest?\" -> A: \"Mary\"\n",
    "  \n",
    "### (Suggested) Capabilities\n",
    "\n",
    "1. Vocabulary + Part of Speech\n",
    "2. Taxonomy (synonyms/antonims)\n",
    "3. Robustness (to typos)\n",
    "4. NER\n",
    "5. Fairness\n",
    "6. Temporal (e.g. for a sequence of events, which is first, last, etc.)\n",
    "7. Negation\n",
    "8. Correference\n",
    "9. Semantic Role Labeling (agent, object, etc)\n",
    "10. Logic (conjunction, disjunction, simetry, etc)\n"
   ]
  },
  {
   "cell_type": "markdown",
   "metadata": {
    "slideshow": {
     "slide_type": "subslide"
    }
   },
   "source": [
    "## Test Types\n",
    "\n",
    "![Capability Matrix](images/cap_matrix.png)\n",
    "\n",
    "1. Minimum Functionality Tests\n",
    "  - Equivalent to Unit Tests in SWE\n",
    "  - Consists on creating Small and focused __TEST Datasets__\n",
    "  - Useful for __detecting when models use shortcuts when handling complex inputs instead of generalizing__\n",
    "  - Vocabulary and PoS example\n",
    "  \n",
    "2. Invariance\n",
    "  - Equivalent to Metamorphic tests in SWE\n",
    "    ![Metamorphic test example](images/metamorphic_test.png)  \n",
    "  - Add label-preserving perturbations to the input whilst expecting the same ouput\n",
    "  - Capability dependent\n",
    "  - Addressed to Unlabeled data\n",
    "  - Examples:\n",
    "    1. For Robustness -> Adding new typos\n",
    "    2. For NER -> changing location\n",
    "    \n",
    "    ![Sentiment Analysis INV](images/test_case_b.png)\n",
    "\n",
    "\n",
    "3. Directional Expectation\n",
    "  - Similar to INV test type, but label is expected to change in some way ??? <- Not very clear what it means\n",
    "  - Example:\n",
    "    - A sentiment does not become more positive when adding extra stuff\n",
    "    ![Sentiment Analysis DIR](images/test_case_c.png)\n",
    "  - Addressed to Unlabeled data\n"
   ]
  },
  {
   "cell_type": "markdown",
   "metadata": {
    "slideshow": {
     "slide_type": "slide"
    }
   },
   "source": [
    "# Test Cases Generation (https://github.com/marcotcr/checklist)\n",
    "\n",
    "1. From Scratch\n",
    "\n",
    "  - Creativity implied\n",
    "  - Will represent a solid test base\n",
    "\n",
    "2. Perturbing an existing DS\n",
    "\n",
    "\n",
    "3. Templates\n",
    "\n",
    "    - Example:\n",
    "      \"I didn't love the food\" -> \"I {NEGATION} {POS_VERB} the {THING}\" where:\n",
    "      1. {NEGATION} is \"can't\" \"didn't\"...\n",
    "      2. {POS_VERB} is \"love\", \"like\"...\n",
    "      3. {THING} is \"food\", \"flight\", \"service\"...\n",
    "    - Then use a cartesian product to generate all the posible test cases\n",
    "    \n",
    "    - Can be expanded with a masked language model like ROBERTA to generate stuff automatically\n",
    "      1. e.g. \"I really {mask} the flight\" is filled by ROBERTA with \"enjoyed\", \"regret\", \"loved\"...\n",
    "    ![Tool Mask](images/tool_mask.png)      "
   ]
  },
  {
   "cell_type": "markdown",
   "metadata": {
    "slideshow": {
     "slide_type": "slide"
    }
   },
   "source": [
    "# Sentiment Analysis Results\n",
    "\n",
    "![Tests for Sentiment Analysis](images/table1.png)"
   ]
  },
  {
   "cell_type": "markdown",
   "metadata": {
    "slideshow": {
     "slide_type": "slide"
    }
   },
   "source": [
    "# Quora Question Pair\n",
    "\n",
    "![Quora Question Pair](images/table2.png)"
   ]
  },
  {
   "cell_type": "markdown",
   "metadata": {
    "slideshow": {
     "slide_type": "slide"
    }
   },
   "source": [
    "# Machine Comprehension\n",
    "\n",
    "![Machine Comprehension](images/table3.png)"
   ]
  },
  {
   "cell_type": "markdown",
   "metadata": {
    "slideshow": {
     "slide_type": "slide"
    }
   },
   "source": [
    "# User Studies\n",
    "\n",
    "* Kind of clinical study to justify their approach works\n",
    "* Two scenarios:\n",
    "    - Commercial system\n",
    "    - User study: MFT for Newbies"
   ]
  },
  {
   "cell_type": "markdown",
   "metadata": {
    "slideshow": {
     "slide_type": "subslide"
    }
   },
   "source": [
    "## Commercial System\n",
    "* **Goal**: Compare to a well-established baseline: Commercial Microsoft Sentiment Analysis Model\n",
    "    - Already battletested (bugs found/fixed...)\n",
    "    - More comprehensive evaluation than research systems\n",
    "* **Methodology**\n",
    "    - Users invited to 5 hour session\n",
    "    - Checklist methodology explained first\n",
    "    - Use the methodology to write their own tests (with help from Checklist team to reduce learning curve)\n",
    "    - Brainstorm session: 30 tests: 20 MFT, 5 INV, 5 DIR\n",
    "    - Implemented 20 of them (66%)\n",
    "* **Findings**\n",
    "    - Checklist team:\n",
    "        - Overlap great % of tests:\n",
    "            - \"Studends\" end up implemneting most of the tests the Checklist team implemented in advance (Maybe induced unconscious bias???)\n",
    "            - But also new capabilities\n",
    "    - MS team:\n",
    "        - They tested new capabilities (This may be due to just brainstorming with new ppl)\n",
    "        - They tested capabilities they considered but not in their benchmarks (Due to lack of time maybe???)\n",
    "        - They tested stuff already had but much thoroughly/systematically"
   ]
  },
  {
   "cell_type": "markdown",
   "metadata": {
    "slideshow": {
     "slide_type": "subslide"
    }
   },
   "source": [
    "## User Study: MFT\n",
    "* **Goal**: Users with NO experience can gain insights and find bugs\n",
    "* **Methodology**\n",
    "    - 18 participants: 8 industry/10 academia\n",
    "    - Intermediate NLP experience\n",
    "    - Bert finetuned on QQP. Access to validation set to create tests.\n",
    "    - Write only MFT (just a subset of Checklist)\n",
    "    - Users divided into 3 categories:\n",
    "        1. Unaided (**Control group**) -> No instructions\n",
    "        2. Cap only -> Short descriptions of capabilities in \n",
    "        3. Cap with templ -> 2. + template and fill-in tools\n",
    "* **Findings**\n",
    "    - Authors claim users write many more tests\n",
    "    - Users tested more capabilities with cap only and cap + templ\n",
    "        - They tested all the capabilities in Table 2 + extra new capabilities (Not exactly true: 10/7.8 (GT/Tested)\n",
    "        - Unaided and Cap only only tested couldn't find more bugs because they lacked the test-case variety\n",
    "    - Subjective evaluation of severity of bugs found... (well... ok...)\n",
    "        - They claim that the severity of bugs discovered by Unaided ppl is lower (to me, this is due to the fact they tested less capabitilies, and they probably started with the easiests)"
   ]
  },
  {
   "cell_type": "markdown",
   "metadata": {
    "slideshow": {
     "slide_type": "slide"
    }
   },
   "source": [
    "# User Study Results\n",
    "\n",
    "![User Study](images/table4.png)"
   ]
  },
  {
   "cell_type": "markdown",
   "metadata": {},
   "source": [
    "# Take Aways\n",
    "\n",
    "💡 Ensure models fulfill *benchmark accuracy* **is not enough to evaluate model quality in NLP**\n",
    "\n",
    "💡 They use SWE techniques to illustrate the \"bad\" quality of models that have passed the existing benchmarks in 3 different tasks\n",
    "\n",
    "💡 They claim their methodology and tools are easy to follow/use\n",
    "\n",
    "💡 Utility is guaranteed\n",
    "\n",
    "    - Found errors in battletested public comercial models\n",
    "    - Shown how users (both expert and newcomers) can benefit from the framework almost immediately\n",
    "     \n",
    "💡 Goal: Improve quality of current NLP model evaluations, so...\n",
    "\n",
    "    - Tool and all stuff described in the paper is is open sourced: https://github.com/marcotcr/checklist\n",
    "    - They plan the community to start growing by sharing their experiences through new test suites and capabilities"
   ]
  },
  {
   "cell_type": "markdown",
   "metadata": {
    "slideshow": {
     "slide_type": "slide"
    }
   },
   "source": [
    "# Reflections/Open Questions\n",
    "\n",
    "- I think this is pretty interesting paper:\n",
    "\n",
    "  - Sometimes we focus on a measure and we put it as a single goal, we distort the measure (what is call Capmbell's law in eductaion. Originally: \"But when test scores become the goal of the teaching process, they both lose their value as indicators of educational status and distort the educational process in undesirable ways\")\n",
    "  - This methodology allows to alleviate/avoid that\n",
    "\n",
    "\n",
    "- As it happened with TDD/BDD in the SWE, in most of the companies/environments probably:\n",
    "\n",
    "  1. Ppl will be reluctant to apply this as they think they already know the underlying problem (Dunning-Krugger effect?)\n",
    "  2. Extra burden that will be avoided by managers (again D-K effect)\n",
    "\n",
    "\n",
    "- Who would be the responsible/s for implementing this in real projects?\n",
    "  - Data Scientists???\n",
    "  - Project Managers???\n",
    "  - Engineers???\n",
    "  - Donald The Duck???\n",
    "  - Rene Descartes???\n",
    "  - My 96 year aunt???\n",
    "  \n",
    "  - *PC Answer*: \"All of them, of course!\" -> **Reality**: None of them will do\n",
    "\n",
    "\n",
    "- Probably the stakeholders involved will continue living in their \"island of happiness\"\n",
    "  - Embarrassing questions that can come out of these tests, so...\n",
    "  - \"If you don't have do those tests, you don't have a problem\""
   ]
  },
  {
   "cell_type": "markdown",
   "metadata": {
    "slideshow": {
     "slide_type": "slide"
    }
   },
   "source": [
    "# PDF Paper"
   ]
  },
  {
   "cell_type": "code",
   "execution_count": 2,
   "metadata": {
    "slideshow": {
     "slide_type": "fragment"
    }
   },
   "outputs": [
    {
     "data": {
      "text/html": [
       "\n",
       "        <iframe\n",
       "            width=\"1500\"\n",
       "            height=\"1200\"\n",
       "            src=\"./2005.04118.pdf\"\n",
       "            frameborder=\"0\"\n",
       "            allowfullscreen\n",
       "        ></iframe>\n",
       "        "
      ],
      "text/plain": [
       "<IPython.lib.display.IFrame at 0x7fce58397290>"
      ]
     },
     "execution_count": 2,
     "metadata": {},
     "output_type": "execute_result"
    }
   ],
   "source": [
    "from IPython.display import IFrame\n",
    "IFrame(\"./2005.04118.pdf\", width=1500, height=1200)"
   ]
  },
  {
   "cell_type": "code",
   "execution_count": null,
   "metadata": {},
   "outputs": [],
   "source": []
  }
 ],
 "metadata": {
  "celltoolbar": "Slideshow",
  "kernelspec": {
   "display_name": "transformers",
   "language": "python",
   "name": "transformers"
  },
  "language_info": {
   "codemirror_mode": {
    "name": "ipython",
    "version": 3
   },
   "file_extension": ".py",
   "mimetype": "text/x-python",
   "name": "python",
   "nbconvert_exporter": "python",
   "pygments_lexer": "ipython3",
   "version": "3.7.6"
  },
  "livereveal": {
   "autolaunch": true
  }
 },
 "nbformat": 4,
 "nbformat_minor": 1
}
