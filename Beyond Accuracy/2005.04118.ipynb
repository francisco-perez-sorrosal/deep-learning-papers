{
 "cells": [
  {
   "cell_type": "code",
   "execution_count": 1,
   "metadata": {
    "slideshow": {
     "slide_type": "skip"
    }
   },
   "outputs": [
    {
     "data": {
      "text/plain": [
       "{'start_slideshow_at': 'selected',\n",
       " 'leap_motion': {'naturalSwipe': True,\n",
       "  'pointerOpacity': 0.5,\n",
       "  'pointerColor': '#d80000'},\n",
       " 'header': '<h3>Francisco Perez-Sorrosal</h3>',\n",
       " 'footer': '<h3>Deep Learning Reading Group</h3>',\n",
       " 'scroll': True,\n",
       " 'enable_chalkboard': True}"
      ]
     },
     "execution_count": 1,
     "metadata": {},
     "output_type": "execute_result"
    }
   ],
   "source": [
    "from traitlets.config.manager import BaseJSONConfigManager\n",
    "from pathlib import Path\n",
    "path = Path.home() / \".jupyter\" / \"nbconfig\"\n",
    "cm = BaseJSONConfigManager(config_dir=str(path))\n",
    "cm.update(\n",
    "    \"rise\",\n",
    "    {\n",
    "        \"theme\": None,\n",
    "        \"transition\": None,\n",
    "        \"start_slideshow_at\": \"selected\",\n",
    "        \"leap_motion\": {\n",
    "            \"naturalSwipe\"  : True,     # Invert swipe gestures\n",
    "            \"pointerOpacity\": 0.5,      # Set pointer opacity to 0.5\n",
    "            \"pointerColor\"  : \"#d80000\" # Red pointer\"nat.png\"\n",
    "        },\n",
    "        \"header\": \"<h3>Francisco Perez-Sorrosal</h3>\",\n",
    "        \"footer\": \"<h3>Deep Learning Reading Group</h3>\",\n",
    "        \"scroll\": True,\n",
    "        \"enable_chalkboard\": True\n",
    "     }\n",
    ")"
   ]
  },
  {
   "cell_type": "code",
   "execution_count": null,
   "metadata": {
    "scrolled": true,
    "slideshow": {
     "slide_type": "skip"
    }
   },
   "outputs": [],
   "source": [
    "pip install emoji --upgrade"
   ]
  },
  {
   "cell_type": "code",
   "execution_count": null,
   "metadata": {
    "slideshow": {
     "slide_type": "skip"
    }
   },
   "outputs": [],
   "source": [
    "import emoji\n",
    "print(emoji.emojize('Presenting stuff is easy!!! :thumbs_up:'))"
   ]
  },
  {
   "cell_type": "code",
   "execution_count": null,
   "metadata": {
    "slideshow": {
     "slide_type": "skip"
    }
   },
   "outputs": [],
   "source": [
    "# Emojis http://getemoji.com/"
   ]
  },
  {
   "cell_type": "markdown",
   "metadata": {
    "collapsed": true,
    "slideshow": {
     "slide_type": "slide"
    }
   },
   "source": [
    "# Beyond Accuracy: Behavioral Testing of NLP models with CheckList\n",
    "\n",
    "## Marco Tulio Ribeiro, Tongshuang Wu, Carlos Guestrin, Sameer Singh\n",
    "\n",
    "### [https://arxiv.org/abs/2005.04118](https://arxiv.org/abs/2005.04118)\n",
    "\n",
    "### [pdf](https://arxiv.org/pdf/2005.04118.pdf)\n",
    "\n",
    "---\n",
    "\n",
    "Francisco Perez-Sorrosal | 7 Sep 2020\n"
   ]
  },
  {
   "cell_type": "markdown",
   "metadata": {
    "slideshow": {
     "slide_type": "slide"
    }
   },
   "source": [
    "# Summary (What do they sell in the paper)\n",
    "\n",
    "**Best paper award in ACL 2020**\n",
    "\n",
    "Presents **Checklist**, a _methodology and a tool_ for testing NLP models\n",
    "\n",
    "💡 Based on behavioral testing (software engineering)\n",
    "\n",
    "💡 Composed of:\n",
    "\n",
    "1. matrix of general linguistic capabilities and test types (to ease comprehensive test ideation)\n",
    "\n",
    "2. tool to generate test cases\n",
    "\n",
    "💡 Illustrates the methodology on 3 use cases"
   ]
  },
  {
   "cell_type": "markdown",
   "metadata": {
    "slideshow": {
     "slide_type": "slide"
    }
   },
   "source": [
    "# (General) Current Evaluation Scenario for Models\n",
    "\n",
    "💡Standard paradigm for evaluation:\n",
    "\n",
    " - Using train-validation-test splits to estimate model's the accuracy/any other metric\n",
    "    \n",
    "💡While this is useful, eval DSs are:\n",
    "    \n",
    " - often not comprehensive\n",
    " - contain the same biases as the training data\n",
    "\n",
    "💡So, by summarizing the model performance as a single aggregate statistic:\n",
    " \n",
    " - The performance on the real-world data can be overestimated\n",
    " - Makes difficult to figure out where the model is failing, \n",
    " - and what is more, how to **fix it**\n"
   ]
  },
  {
   "cell_type": "markdown",
   "metadata": {
    "slideshow": {
     "slide_type": "subslide"
    }
   },
   "source": [
    "## Authors' Claims and Findings\n",
    "\n",
    "- Commercial/Research models claim to show performance at the Human level\n",
    "\n",
    "### However Checklist:\n",
    "- Reveals a variety of severe bugs/linguistic phenomena not detected in commercial and research models\n",
    "- Examples:\n",
    "\n",
    "  1. negation\n",
    "  2. named entities\n",
    "  3. coreferences\n",
    "  4. semantic role labeling\n",
    "  5. et cetera\n",
    "  \n",
    "- Model developers generate double the tests they were generating before"
   ]
  },
  {
   "cell_type": "markdown",
   "metadata": {
    "slideshow": {
     "slide_type": "slide"
    }
   },
   "source": [
    "# Behavioral Testing\n",
    "\n",
    "💡 Behavior Driven Development (BDD) -> Test Driven Development (TDD). \n",
    "\n",
    "💡 __GOAL__: Decouple tests from implementation\n",
    "\n",
    "💡 BDD relies in human-readable descriptions of SW requirements to assess software.\n",
    "\n",
    " - Defines use cases as stories in English-like DSL\n",
    " - **Story**: Transfers change balances\n",
    "   1. As a bank user\n",
    "   2. When I send money from one of my accounts to another\n",
    "   3. I want the account balances to update\n",
    "\n",
    "### Example\n",
    "\n",
    " - Assuming I have `$100` in my balance of account A <p> And the balance of my account B is `$10`\n",
    "    \n",
    " - If I transfer `$50` from my Account A to my account B\n",
    "    \n",
    " - Then, in the end, I should have `$50` in the balance of my account A <p> And `$60` in the balance of my account B"
   ]
  },
  {
   "cell_type": "markdown",
   "metadata": {
    "slideshow": {
     "slide_type": "slide"
    }
   },
   "source": [
    "# Scenarios They Choose to Demonstrate Applicability\n",
    "\n",
    "- Sentiment Analysis\n",
    "\n",
    "- Duplicate Question Detection\n",
    "\n",
    "- Machine Comprehension\n",
    "\n",
    "\n",
    "\n",
    "__In all of them the model is treated as a _Black-Box_, which allows comparison of different model implementations, models trained on different data, etc.__\n",
    "\n",
    "\n",
    "## Real-world Field Studies Description\n",
    "\n",
    "### It looks like they do a kind of a clinical-study here\n",
    "\n",
    "1. Sentiment Analysis Model\n",
    "2. Other NLP practitioners\n"
   ]
  },
  {
   "cell_type": "markdown",
   "metadata": {
    "slideshow": {
     "slide_type": "slide"
    }
   },
   "source": [
    "# Example\n",
    "\n",
    "### Capability Matrix\n",
    "\n",
    "- Potential tests structured as a matrix\n",
    "    - Rows -> capabilities\n",
    "    - Cols -> test types\n",
    "\n",
    "![Capability Matrix](images/cap_matrix.png)\n",
    "\n",
    "The matrix works as a guide, prompting users to test each capability with different test types.\n"
   ]
  },
  {
   "cell_type": "markdown",
   "metadata": {
    "slideshow": {
     "slide_type": "subslide"
    }
   },
   "source": [
    "# Example: Model’s Negation capability test\n",
    "\n",
    "![Capability Matrix](images/cap_matrix.png)\n",
    "\n",
    "---\n",
    "\n",
    "- Minimum Functionality test (MFT), i.e. simple test cases designed to target a specific behavior\n",
    "  1. Generate simple examples filling in a template (“I {NEGATION} {POS_VERB} the {THING}.”) with pre-built lexicons\n",
    "  2. Compute the model’s failure rate on such examples\n",
    "![Test Case A](images/test_case_a.png)"
   ]
  },
  {
   "cell_type": "markdown",
   "metadata": {
    "slideshow": {
     "slide_type": "subslide"
    }
   },
   "source": [
    "# Example: Named entity recognition (NER) \n",
    "\n",
    "![Capability Matrix](images/cap_matrix.png)\n",
    "\n",
    "---\n",
    "\n",
    " - Tested with an Invariance test (INV) \n",
    "   1. perturbations that should not change the output of the model\n",
    "![Test Case A](images/test_case_b.png)\n",
    "\n",
    " - Changing location should not change sentiment"
   ]
  },
  {
   "cell_type": "markdown",
   "metadata": {
    "slideshow": {
     "slide_type": "subslide"
    }
   },
   "source": [
    "# Example: Vocabulary\n",
    "\n",
    "![Capability Matrix](images/cap_matrix.png)\n",
    "\n",
    "---\n",
    "\n",
    " - Use a Directional Expectation test (DIR) \n",
    "   - perturbations to the input with known expected results \n",
    "\n",
    "![Test Case A](images/test_case_c.png)\n",
    "\n",
    " - Add negative phrases and check sentiment does not become more positive"
   ]
  },
  {
   "cell_type": "markdown",
   "metadata": {},
   "source": [
    "# Tool Description\n",
    "\n",
    "- Users have to identify the __language capabilities__ of the tasks at hand\n",
    "- then create tests to evaluate the model\n",
    "\n",
    "## Capabilities\n",
    "\n"
   ]
  },
  {
   "cell_type": "code",
   "execution_count": 11,
   "metadata": {
    "slideshow": {
     "slide_type": "slide"
    }
   },
   "outputs": [
    {
     "data": {
      "text/html": [
       "\n",
       "        <iframe\n",
       "            width=\"1500\"\n",
       "            height=\"1200\"\n",
       "            src=\"./2005.04118.pdf?view=FitW\"\n",
       "            frameborder=\"0\"\n",
       "            allowfullscreen\n",
       "        ></iframe>\n",
       "        "
      ],
      "text/plain": [
       "<IPython.lib.display.IFrame at 0x7fe7d8242490>"
      ]
     },
     "execution_count": 11,
     "metadata": {},
     "output_type": "execute_result"
    }
   ],
   "source": [
    "from IPython.display import IFrame\n",
    "IFrame(\"./2005.04118.pdf\", width=1500, height=1200)"
   ]
  },
  {
   "cell_type": "code",
   "execution_count": null,
   "metadata": {},
   "outputs": [],
   "source": []
  }
 ],
 "metadata": {
  "celltoolbar": "Slideshow",
  "kernelspec": {
   "display_name": "transformers",
   "language": "python",
   "name": "transformers"
  },
  "language_info": {
   "codemirror_mode": {
    "name": "ipython",
    "version": 3
   },
   "file_extension": ".py",
   "mimetype": "text/x-python",
   "name": "python",
   "nbconvert_exporter": "python",
   "pygments_lexer": "ipython3",
   "version": "3.7.6"
  },
  "livereveal": {
   "autolaunch": true
  }
 },
 "nbformat": 4,
 "nbformat_minor": 1
}
